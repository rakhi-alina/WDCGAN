{
 "cells": [
  {
   "cell_type": "markdown",
   "metadata": {},
   "source": [
    "### Binary cross entropy loss\n",
    "\\begin{equation*}\n",
    "L(\\theta) = - \\frac{1}{n} \\sum_{i=1}^n [y_i log(p_i) + (1 - y_i) log(1 - p_i)]\n",
    "\\end{equation*}\n",
    "\n",
    "- Discriminator final probability is 1 => REAL IMAGE\n",
    "- Discriminator final probability is 0 => FAKE IMAGE\n",
    "\n",
    "Log values:\n",
    "- Log(1) => Loss would be 0\n",
    "- Log(0+) => Loss would be to - ∞\n",
    "\n",
    "### Generator:\n",
    "\n",
    "Maximize D(G(z))\n",
    "\n",
    "\n",
    "### Discriminator:\n",
    "\n",
    "Maximize D(x) AND minimize D(G(z))"
   ]
  },
  {
   "cell_type": "markdown",
   "metadata": {},
   "source": [
    "## Some tricks to train GANs\n",
    "### https://github.com/soumith/ganhacks"
   ]
  },
  {
   "cell_type": "code",
   "execution_count": 1,
   "metadata": {},
   "outputs": [
    {
     "name": "stderr",
     "output_type": "stream",
     "text": [
      "Using TensorFlow backend.\n"
     ]
    }
   ],
   "source": [
    "import numpy as np\n",
    "import tensorflow as tf\n",
    "import matplotlib.pyplot as plt\n",
    "from keras.datasets import mnist"
   ]
  },
  {
   "cell_type": "code",
   "execution_count": 2,
   "metadata": {},
   "outputs": [
    {
     "name": "stdout",
     "output_type": "stream",
     "text": [
      "(60000, 28, 28, 1)\n",
      "MAX : 255 and MIN: 0\n",
      "Normalized MAX : 1.0 and MIN: -1.0\n"
     ]
    }
   ],
   "source": [
    "def normalize(vector, a, b):\n",
    "    assert(a < b)\n",
    "    max_val = np.max(vector)\n",
    "    min_val = np.min(vector)\n",
    "\n",
    "    result = (b - a) * ( (vector - min_val) / (max_val - min_val) ) + a\n",
    "\n",
    "    return result\n",
    "\n",
    "(X_train, Y_train), _ = mnist.load_data()\n",
    "\n",
    "# Expand to have 1 channel (grey images)\n",
    "X_train = np.expand_dims(X_train, axis=-1)\n",
    "print(X_train.shape)\n",
    "\n",
    "# Print max and min and normalize\n",
    "print(\"MAX : \" + str(X_train.max()) + \" and MIN: \" + str(X_train.min()))\n",
    "X_train = normalize(X_train, -1, 1)\n",
    "print(\"Normalized MAX : \" + str(X_train.max()) + \" and MIN: \" + str(X_train.min()))\n",
    "\n",
    "assert(X_train.shape[1] == X_train.shape[2])"
   ]
  },
  {
   "cell_type": "code",
   "execution_count": 3,
   "metadata": {},
   "outputs": [],
   "source": [
    "# Parameters network and training\n",
    "epochs = 1000\n",
    "batchSize = 32\n",
    "lr = 0.0002\n",
    "Z_dim = 100\n",
    "mu, sigma = 0, 1"
   ]
  },
  {
   "cell_type": "code",
   "execution_count": 4,
   "metadata": {},
   "outputs": [
    {
     "data": {
      "image/png": "[encoded data removed]",
      "text/plain": [
       "<Figure size 432x432 with 9 Axes>"
      ]
     },
     "metadata": {
      "needs_background": "light"
     },
     "output_type": "display_data"
    }
   ],
   "source": [
    "# Show some samples\n",
    "fig = plt.figure(figsize=(6,6))\n",
    "for i in range(9):\n",
    "    plt.subplot(3, 3, i+1)\n",
    "    plt.imshow(np.squeeze(X_train[i]), cmap='gray')\n",
    "    plt.axis('off')"
   ]
  },
  {
   "cell_type": "code",
   "execution_count": null,
   "metadata": {},
   "outputs": [],
   "source": [
    "def upConv2DLayer(inputTensor, numFilters, size=5, stride=2, name=None, bn=True, activation=True):\n",
    "    #initializer = tf.random_normal_initializer(0, 0.02)\n",
    "    #tf.truncated_normal_initializer(stddev=0.1)\n",
    "    \n",
    "    output = tf.keras.layers.Conv2DTranspose(numFilters, # Number of output channels\n",
    "                                            kernel_size=(size,size), # Size of each filter\n",
    "                                            strides=(stride,stride), \n",
    "                                            padding=\"same\", \n",
    "                                            activation=None,\n",
    "                                            use_bias=False,\n",
    "                                            name=name)(inputTensor)\n",
    "    print(output)\n",
    "    if bn:\n",
    "        output = tf.keras.layers.BatchNormalization()(output)\n",
    "        print(output)\n",
    "        \n",
    "    if activation:\n",
    "        output = tf.keras.layers.LeakyReLU()(output)\n",
    "        print(output)\n",
    "         \n",
    "    return output"
   ]
  },
  {
   "cell_type": "code",
   "execution_count": null,
   "metadata": {},
   "outputs": [
    {
     "data": {
      "text/plain": [
       "'# Generator network\\ndef generator(z, reuse=False):\\n    \\n    with tf.variable_scope(\"generator\", reuse=reuse):\\n        print(z)\\n        fc1 = tf.keras.layers.Dense(7*7*256, use_bias=False)(z)\\n        print(fc1)\\n        bn1 = tf.keras.layers.BatchNormalization()(fc1)\\n        print(bn1)\\n        relu1 = tf.keras.layers.LeakyReLU()(bn1)\\n        print(relu1)\\n        \\n        reshaped = tf.reshape(relu1, shape=[-1, 7, 7, 256])\\n        print(reshaped)\\n\\n        upConv1 = upConv2DLayer(reshaped, 128, 5, 1, \"upConv1\")\\n        upConv2 = upConv2DLayer(upConv1, 64, 5, 2, \"upConv2\")\\n        upConv3 = upConv2DLayer(upConv2, 1, 5, 2, \"upConv3\", bn=False, activation=False)\\n        \\n        output = tf.nn.tanh(upConv3)\\n        print(output)\\n        \\n        return output\\n    \\n# Discriminator\\ndef discriminator(x, reuse=False, dropout=0.3):\\n    \\n    with tf.variable_scope(\"discriminator\", reuse=reuse):\\n        conv1 = tf.keras.layers.Conv2D(64, (5, 5), strides=(2, 2), padding=\\'same\\')(x)\\n        relu1 = tf.keras.layers.LeakyReLU()(conv1)\\n        drop1 = tf.keras.layers.Dropout(dropout)(relu1)\\n        \\n        conv2 = tf.keras.layers.Conv2D(128, (5, 5), strides=(2, 2), padding=\\'same\\')(drop1)\\n        relu2 = tf.keras.layers.LeakyReLU()(conv2)\\n        drop2 = tf.keras.layers.Dropout(dropout)(relu2)\\n\\n        flattened = tf.keras.layers.Flatten()(drop2)\\n        output = tf.keras.layers.Dense(1)(flattened)\\n        output = tf.nn.sigmoid(output)\\n    if not reuse:\\n        print(x)\\n        print(conv1)\\n        print(relu1)\\n        print(drop1)\\n        print(conv2)\\n        print(relu2)\\n        print(drop2)\\n        print(flattened)\\n        print(output)\\n        \\n    return output'"
      ]
     },
     "execution_count": 6,
     "metadata": {},
     "output_type": "execute_result"
    }
   ],
   "source": [
    "# Sample noise for generator\n",
    "def sample_Z(batch_size, img_size, mu, sigma):\n",
    "    return np.random.normal(mu, sigma, size=[batch_size, img_size])\n",
    "    #return np.random.uniform(-1., 1., size=[batch_size, img_size])\n",
    "\n",
    "    \n",
    "'''# Generator network\n",
    "def generator(z, reuse=False):\n",
    "    \n",
    "    with tf.variable_scope(\"generator\", reuse=reuse):\n",
    "        print(z)\n",
    "        fc1 = tf.keras.layers.Dense(7*7*256, use_bias=False)(z)\n",
    "        print(fc1)\n",
    "        bn1 = tf.keras.layers.BatchNormalization()(fc1)\n",
    "        print(bn1)\n",
    "        relu1 = tf.keras.layers.LeakyReLU()(bn1)\n",
    "        print(relu1)\n",
    "        \n",
    "        reshaped = tf.reshape(relu1, shape=[-1, 7, 7, 256])\n",
    "        print(reshaped)\n",
    "\n",
    "        upConv1 = upConv2DLayer(reshaped, 128, 5, 1, \"upConv1\")\n",
    "        upConv2 = upConv2DLayer(upConv1, 64, 5, 2, \"upConv2\")\n",
    "        upConv3 = upConv2DLayer(upConv2, 1, 5, 2, \"upConv3\", bn=False, activation=False)\n",
    "        \n",
    "        output = tf.nn.tanh(upConv3)\n",
    "        print(output)\n",
    "        \n",
    "        return output\n",
    "    \n",
    "# Discriminator\n",
    "def discriminator(x, reuse=False, dropout=0.3):\n",
    "    \n",
    "    with tf.variable_scope(\"discriminator\", reuse=reuse):\n",
    "        conv1 = tf.keras.layers.Conv2D(64, (5, 5), strides=(2, 2), padding='same')(x)\n",
    "        relu1 = tf.keras.layers.LeakyReLU()(conv1)\n",
    "        drop1 = tf.keras.layers.Dropout(dropout)(relu1)\n",
    "        \n",
    "        conv2 = tf.keras.layers.Conv2D(128, (5, 5), strides=(2, 2), padding='same')(drop1)\n",
    "        relu2 = tf.keras.layers.LeakyReLU()(conv2)\n",
    "        drop2 = tf.keras.layers.Dropout(dropout)(relu2)\n",
    "\n",
    "        flattened = tf.keras.layers.Flatten()(drop2)\n",
    "        output = tf.keras.layers.Dense(1)(flattened)\n",
    "        output = tf.nn.sigmoid(output)\n",
    "    if not reuse:\n",
    "        print(x)\n",
    "        print(conv1)\n",
    "        print(relu1)\n",
    "        print(drop1)\n",
    "        print(conv2)\n",
    "        print(relu2)\n",
    "        print(drop2)\n",
    "        print(flattened)\n",
    "        print(output)\n",
    "        \n",
    "    return output'''"
   ]
  },
  {
   "cell_type": "code",
   "execution_count": null,
   "metadata": {},
   "outputs": [],
   "source": [
    "def generator(z, reuse=False):\n",
    "    \n",
    "    with tf.variable_scope(\"generator\", reuse=reuse):        \n",
    "        fc1 = tf.layers.dense(inputs=z, units=256, activation=tf.nn.leaky_relu)\n",
    "        fc2 = tf.layers.dense(inputs=fc1, units=784, activation=None)\n",
    "        logits = tf.nn.tanh(fc2)\n",
    "        output = tf.reshape(logits, shape=[-1, 28, 28, 1])\n",
    "        \n",
    "        print(\"Generator:\")\n",
    "        print(z)\n",
    "        print(fc1)\n",
    "        print(fc2)\n",
    "        print(logits)\n",
    "        print(output)\n",
    "        \n",
    "    return output\n",
    "\n",
    "\n",
    "def discriminator(x, reuse=False):\n",
    "    \n",
    "    with tf.variable_scope(\"discriminator\", reuse=reuse):\n",
    "        x = tf.layers.Flatten()(x)\n",
    "        fc1 = tf.layers.dense(inputs=x, units=256, activation=tf.nn.leaky_relu)\n",
    "        fc2 = tf.layers.dense(inputs=fc1, units=1, activation=None)\n",
    "        prob = tf.nn.sigmoid(fc2)\n",
    "        \n",
    "        if not reuse:\n",
    "            print(\"\\nDiscriminator:\")\n",
    "            print(x)\n",
    "            print(fc1)\n",
    "            print(fc2)\n",
    "            print(prob)\n",
    "        \n",
    "    return prob"
   ]
  },
  {
   "cell_type": "code",
   "execution_count": null,
   "metadata": {},
   "outputs": [
    {
     "name": "stdout",
     "output_type": "stream",
     "text": [
      "WARNING:tensorflow:From <ipython-input-7-3b2f5cbc7f58>:4: dense (from tensorflow.python.layers.core) is deprecated and will be removed in a future version.\n",
      "Instructions for updating:\n",
      "Use keras.layers.dense instead.\n",
      "WARNING:tensorflow:From /home/francesco/anaconda3/lib/python3.7/site-packages/tensorflow/python/framework/op_def_library.py:263: colocate_with (from tensorflow.python.framework.ops) is deprecated and will be removed in a future version.\n",
      "Instructions for updating:\n",
      "Colocations handled automatically by placer.\n",
      "Generator:\n",
      "Tensor(\"Z:0\", shape=(?, 100), dtype=float32)\n",
      "Tensor(\"generator/dense/LeakyRelu:0\", shape=(?, 256), dtype=float32)\n",
      "Tensor(\"generator/dense_1/BiasAdd:0\", shape=(?, 784), dtype=float32)\n",
      "Tensor(\"generator/Tanh:0\", shape=(?, 784), dtype=float32)\n",
      "Tensor(\"generator/Reshape:0\", shape=(?, 28, 28, 1), dtype=float32)\n",
      "\n",
      "Discriminator:\n",
      "Tensor(\"discriminator/flatten/Reshape:0\", shape=(?, 784), dtype=float32)\n",
      "Tensor(\"discriminator/dense/LeakyRelu:0\", shape=(?, 256), dtype=float32)\n",
      "Tensor(\"discriminator/dense_1/BiasAdd:0\", shape=(?, 1), dtype=float32)\n",
      "Tensor(\"discriminator/Sigmoid:0\", shape=(?, 1), dtype=float32)\n",
      "[<tf.Variable 'generator/dense/kernel:0' shape=(100, 256) dtype=float32_ref>, <tf.Variable 'generator/dense/bias:0' shape=(256,) dtype=float32_ref>, <tf.Variable 'generator/dense_1/kernel:0' shape=(256, 784) dtype=float32_ref>, <tf.Variable 'generator/dense_1/bias:0' shape=(784,) dtype=float32_ref>]\n",
      "[<tf.Variable 'discriminator/dense/kernel:0' shape=(784, 256) dtype=float32_ref>, <tf.Variable 'discriminator/dense/bias:0' shape=(256,) dtype=float32_ref>, <tf.Variable 'discriminator/dense_1/kernel:0' shape=(256, 1) dtype=float32_ref>, <tf.Variable 'discriminator/dense_1/bias:0' shape=(1,) dtype=float32_ref>]\n"
     ]
    }
   ],
   "source": [
    "tf.reset_default_graph()\n",
    "\n",
    "# Generator noise input\n",
    "Z = tf.placeholder(tf.float32, shape=[None, Z_dim], name='Z')\n",
    "\n",
    "# Discriminator input\n",
    "X = tf.placeholder(tf.float32, shape=[None, X_train.shape[1], X_train.shape[2], X_train.shape[3]], name='X')\n",
    "\n",
    "# Networks\n",
    "G_z = generator(Z)\n",
    "\n",
    "D_fake = discriminator(G_z, reuse=False)\n",
    "D_real = discriminator(X, reuse=True)\n",
    "\n",
    "# Loss\n",
    "D_loss = tf.reduce_mean(tf.log(D_real) + tf.log(1 - D_fake))\n",
    "G_loss = tf.reduce_mean(tf.log(D_fake))\n",
    "\n",
    "# Optimizer\n",
    "D_var_list = tf.get_collection(tf.GraphKeys.GLOBAL_VARIABLES, scope='discriminator')\n",
    "G_var_list = tf.get_collection(tf.GraphKeys.GLOBAL_VARIABLES, scope='generator')\n",
    "print(G_var_list)\n",
    "print(D_var_list)\n",
    "\n",
    "D_optimizer = tf.train.AdamOptimizer(lr, beta1 = 0.5).minimize(-D_loss, var_list=D_var_list)\n",
    "G_optimizer = tf.train.AdamOptimizer(lr, beta1 = 0.5).minimize(-G_loss, var_list=G_var_list)"
   ]
  },
  {
   "cell_type": "code",
   "execution_count": null,
   "metadata": {},
   "outputs": [
    {
     "data": {
      "text/plain": [
       "\"def discriminatorLoss(dis_real, dis_fake, smoothing=1.0):\\n\\n    dis_real_ce = tf.nn.sigmoid_cross_entropy_with_logits(logits=dis_real, labels=tf.ones_like(dis_real) * smoothing)\\n    dis_fake_ce = tf.nn.sigmoid_cross_entropy_with_logits(logits=dis_fake, labels=tf.zeros_like(dis_fake))\\n    \\n    dis_loss_real = tf.reduce_mean(dis_real_ce)\\n    dis_loss_fake = tf.reduce_mean(dis_fake_ce)\\n    \\n    return tf.reduce_mean(dis_real_ce + dis_fake_ce)\\n\\n\\ndef generatorLoss(dis_fake):\\n    gen_ce = tf.nn.sigmoid_cross_entropy_with_logits(logits=dis_fake, labels=tf.ones_like(dis_fake))\\n\\n    return tf.reduce_mean(gen_ce)\\n    \\nD_loss = discriminatorLoss(D_real, D_fake)\\nG_loss = generatorLoss(D_fake)\\n\\nD_var = tf.get_collection(tf.GraphKeys.GLOBAL_VARIABLES, scope='discriminator')\\nD_optimizer = tf.train.AdamOptimizer(learning_rate=lr).minimize(D_loss, var_list=D_var)\\n\\nG_var = tf.get_collection(tf.GraphKeys.GLOBAL_VARIABLES, scope='generator')\\nG_optimizer = tf.train.AdamOptimizer(learning_rate=lr).minimize(G_loss, var_list=G_var)\""
      ]
     },
     "execution_count": 9,
     "metadata": {},
     "output_type": "execute_result"
    }
   ],
   "source": [
    "'''def discriminatorLoss(dis_real, dis_fake, smoothing=1.0):\n",
    "\n",
    "    dis_real_ce = tf.nn.sigmoid_cross_entropy_with_logits(logits=dis_real, labels=tf.ones_like(dis_real) * smoothing)\n",
    "    dis_fake_ce = tf.nn.sigmoid_cross_entropy_with_logits(logits=dis_fake, labels=tf.zeros_like(dis_fake))\n",
    "    \n",
    "    dis_loss_real = tf.reduce_mean(dis_real_ce)\n",
    "    dis_loss_fake = tf.reduce_mean(dis_fake_ce)\n",
    "    \n",
    "    return tf.reduce_mean(dis_real_ce + dis_fake_ce)\n",
    "\n",
    "\n",
    "def generatorLoss(dis_fake):\n",
    "    gen_ce = tf.nn.sigmoid_cross_entropy_with_logits(logits=dis_fake, labels=tf.ones_like(dis_fake))\n",
    "\n",
    "    return tf.reduce_mean(gen_ce)\n",
    "    \n",
    "D_loss = discriminatorLoss(D_real, D_fake)\n",
    "G_loss = generatorLoss(D_fake)\n",
    "\n",
    "D_var = tf.get_collection(tf.GraphKeys.GLOBAL_VARIABLES, scope='discriminator')\n",
    "D_optimizer = tf.train.AdamOptimizer(learning_rate=lr).minimize(D_loss, var_list=D_var)\n",
    "\n",
    "G_var = tf.get_collection(tf.GraphKeys.GLOBAL_VARIABLES, scope='generator')\n",
    "G_optimizer = tf.train.AdamOptimizer(learning_rate=lr).minimize(G_loss, var_list=G_var)'''"
   ]
  },
  {
   "cell_type": "code",
   "execution_count": null,
   "metadata": {},
   "outputs": [],
   "source": [
    "def saveImages(images, globalStep, samples=9):    \n",
    "    size = np.sqrt(samples)\n",
    "    fig = plt.figure(figsize=(15, 15))\n",
    "\n",
    "    for i in range(np.minimum(samples, len(images))):\n",
    "        plt.subplot(size, size, i+1)\n",
    "        plt.imshow(np.squeeze(images[i]), cmap='gray')\n",
    "        plt.axis('off')\n",
    "\n",
    "    plt.savefig('./images/image_' + str(globalStep) + '.png')\n",
    "    #plt.show()\n",
    "    plt.close(fig)"
   ]
  },
  {
   "cell_type": "markdown",
   "metadata": {},
   "source": [
    "## Training of the generator and discriminator network"
   ]
  },
  {
   "cell_type": "code",
   "execution_count": null,
   "metadata": {},
   "outputs": [],
   "source": [
    "tf.summary.scalar('D_loss', D_loss)\n",
    "tf.summary.scalar('G_loss', G_loss)\n",
    "\n",
    "# MERGE SUMMARIES - Merge all summaries into a single op\n",
    "merged_summ = tf.summary.merge_all()\n",
    "\n",
    "# VISUALIZE => tensorboard --logdir=.\n",
    "summaries_dir = \"./checkpoints\""
   ]
  },
  {
   "cell_type": "code",
   "execution_count": null,
   "metadata": {
    "scrolled": true
   },
   "outputs": [
    {
     "name": "stdout",
     "output_type": "stream",
     "text": [
      "Epoch 0\n",
      "Epoch 1\n",
      "Epoch 2\n"
     ]
    }
   ],
   "source": [
    "indices = list(range(len(X_train)))\n",
    "\n",
    "with tf.Session() as sess:\n",
    "\n",
    "    # Run the initializer\n",
    "    saver = tf.train.Saver()\n",
    "    sess.run(tf.global_variables_initializer())\n",
    "    \n",
    "    summary_writer = tf.summary.FileWriter(summaries_dir, graph=tf.get_default_graph())\n",
    "    \n",
    "    # Epochs\n",
    "    globalStep = 1\n",
    "    for i in range(epochs):\n",
    "        \n",
    "        # Shuffle dataset every epoch\n",
    "        print(\"Epoch \" + str(i))\n",
    "        np.random.shuffle(indices)\n",
    "        X_train = X_train[indices]\n",
    "        \n",
    "        for j in range(0, len(X_train), batchSize):\n",
    "            \n",
    "            # Sample noise\n",
    "            noise = sample_Z(len(X_train[j:j+batchSize]), Z_dim, mu, sigma)\n",
    "            \n",
    "            _ = sess.run(D_optimizer, feed_dict={ X: X_train[j:j+batchSize], \n",
    "                                                  Z: noise })\n",
    "\n",
    "            _, summary = sess.run([G_optimizer, merged_summ], feed_dict={ X: X_train[j:j+batchSize],\n",
    "                                                                          Z: noise })\n",
    "            summary_writer.add_summary(summary, globalStep)\n",
    "            \n",
    "            globalStep += 1\n",
    "        \n",
    "        # Check results every epoch\n",
    "        save_path = saver.save(sess, \"./checkpoints/model.ckpt\")                \n",
    "        output = sess.run(G_z, feed_dict={ Z: noise })\n",
    "        saveImages(output, globalStep)"
   ]
  },
  {
   "cell_type": "code",
   "execution_count": null,
   "metadata": {},
   "outputs": [],
   "source": []
  }
 ],
 "metadata": {
  "kernelspec": {
   "display_name": "Python 3",
   "language": "python",
   "name": "python3"
  },
  "language_info": {
   "codemirror_mode": {
    "name": "ipython",
    "version": 3
   },
   "file_extension": ".py",
   "mimetype": "text/x-python",
   "name": "python",
   "nbconvert_exporter": "python",
   "pygments_lexer": "ipython3",
   "version": "3.7.1"
  }
 },
 "nbformat": 4,
 "nbformat_minor": 2
}
