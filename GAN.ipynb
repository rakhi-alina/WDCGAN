{
 "cells": [
  {
   "cell_type": "markdown",
   "metadata": {},
   "source": [
    "### Binary cross entropy loss\n",
    "\\begin{equation*}\n",
    "L(\\theta) = - \\frac{1}{n} \\sum_{i=1}^n [y_i log(p_i) + (1 - y_i) log(1 - p_i)]\n",
    "\\end{equation*}\n",
    "\n",
    "- Discriminator final probability is 1 => REAL IMAGE\n",
    "- Discriminator final probability is 0 => FAKE IMAGE\n",
    "\n",
    "Log values:\n",
    "- Log(1) => Loss would be 0\n",
    "- Log(0+) => Loss would be to - ∞\n",
    "\n",
    "### Generator:\n",
    "\n",
    "Maximize D(G(z))\n",
    "\n",
    "\n",
    "### Discriminator:\n",
    "\n",
    "Maximize D(x) AND minimize D(G(z))"
   ]
  },
  {
   "cell_type": "markdown",
   "metadata": {},
   "source": [
    "## Some tricks to train GANs\n",
    "### https://github.com/soumith/ganhacks"
   ]
  },
  {
   "cell_type": "code",
   "execution_count": 1,
   "metadata": {},
   "outputs": [
    {
     "name": "stderr",
     "output_type": "stream",
     "text": [
      "Using TensorFlow backend.\n"
     ]
    }
   ],
   "source": [
    "import numpy as np\n",
    "import tensorflow as tf\n",
    "import matplotlib.pyplot as plt\n",
    "from keras.datasets import mnist\n",
    "import cv2\n",
    "import matplotlib.image as mpimg"
   ]
  },
  {
   "cell_type": "code",
   "execution_count": 2,
   "metadata": {},
   "outputs": [
    {
     "name": "stdout",
     "output_type": "stream",
     "text": [
      "(60000, 28, 28, 1)\n",
      "MAX : 255 and MIN: 0\n",
      "Normalized MAX : 1.0 and MIN: -1.0\n"
     ]
    }
   ],
   "source": [
    "def normalize(vector, a, b):\n",
    "    assert(a < b)\n",
    "    max_val = np.max(vector)\n",
    "    min_val = np.min(vector)\n",
    "\n",
    "    result = (b - a) * ( (vector - min_val) / (max_val - min_val) ) + a\n",
    "\n",
    "    return result\n",
    "\n",
    "(X_tmp, Y_train), _ = mnist.load_data()\n",
    "X_train = []\n",
    "for img in X_tmp:\n",
    "    #tmp = cv2.resize(img, (int(64),int(64)), interpolation = cv2.INTER_CUBIC)\n",
    "    #X_train.append(tmp)\n",
    "    X_train.append(img)\n",
    "    \n",
    "# Expand to have 1 channel (grey images)\n",
    "X_train = np.expand_dims(X_train, axis=-1)\n",
    "print(X_train.shape)\n",
    "\n",
    "# Print max and min and normalize\n",
    "print(\"MAX : \" + str(X_train.max()) + \" and MIN: \" + str(X_train.min()))\n",
    "X_train = normalize(X_train, -1, 1)\n",
    "print(\"Normalized MAX : \" + str(X_train.max()) + \" and MIN: \" + str(X_train.min()))\n",
    "\n",
    "assert(X_train.shape[1] == X_train.shape[2])\n",
    "base_path = \"/home/francesco/UQ/Job/Tumour_GAN/\""
   ]
  },
  {
   "cell_type": "code",
   "execution_count": 3,
   "metadata": {},
   "outputs": [],
   "source": [
    "# Parameters network and training\n",
    "epochs = 1000\n",
    "batchSize = 128\n",
    "lr = 0.0002\n",
    "Z_dim = 100\n",
    "mu, sigma = 0, 1"
   ]
  },
  {
   "cell_type": "code",
   "execution_count": 4,
   "metadata": {},
   "outputs": [
    {
     "data": {
      "image/png": "[encoded data removed]",
      "text/plain": [
       "<Figure size 432x432 with 9 Axes>"
      ]
     },
     "metadata": {
      "needs_background": "light"
     },
     "output_type": "display_data"
    }
   ],
   "source": [
    "# Show some samples\n",
    "fig = plt.figure(figsize=(6,6))\n",
    "for i in range(9):\n",
    "    plt.subplot(3, 3, i+1)\n",
    "    plt.imshow(np.squeeze(X_train[i]), cmap='gray')\n",
    "    plt.axis('off')"
   ]
  },
  {
   "cell_type": "code",
   "execution_count": 5,
   "metadata": {},
   "outputs": [],
   "source": [
    "def sample_noise(batch_size, size, mu, sigma):\n",
    "    #return np.random.normal(mu, sigma, size=[batch_size, 1, 1, size])\n",
    "    return np.random.uniform(-1., 1., size=[batch_size, size])\n",
    "\n",
    "\n",
    "def generator(z, trainable, reuse=False):\n",
    "    \n",
    "    with tf.variable_scope('generator', reuse=reuse):\n",
    "        \n",
    "        fc1 = tf.layers.dense(z, 2*2*512)\n",
    "        \n",
    "        deconv_2 = tf.reshape(fc1, (-1, 2, 2, 512))\n",
    "        bn2 = tf.layers.batch_normalization(deconv_2, training=trainable)\n",
    "        lrelu2 = tf.nn.leaky_relu(bn2)\n",
    "        \n",
    "        deconv3 = tf.layers.conv2d_transpose(lrelu2, 256, 5, 2, padding='VALID')\n",
    "        bn3 = tf.layers.batch_normalization(deconv3, training=trainable)\n",
    "        lrelu3 = tf.nn.leaky_relu(bn3)\n",
    "        \n",
    "        deconv4 = tf.layers.conv2d_transpose(lrelu3, 128, 5, 2, padding='SAME')\n",
    "        bn4 = tf.layers.batch_normalization(deconv4, training=trainable)\n",
    "        lrelu4 = tf.nn.leaky_relu(bn4)\n",
    "        \n",
    "        deconv5 = tf.layers.conv2d_transpose(lrelu4, 1, 5, 2, padding='SAME')\n",
    "        output = tf.tanh(deconv5)\n",
    "        \n",
    "        print(z)\n",
    "        print(fc1)\n",
    "        print(lrelu2)\n",
    "        print(lrelu3)\n",
    "        print(lrelu4)\n",
    "        print(output)\n",
    "        \n",
    "    return output\n",
    "    \n",
    "\n",
    "def discriminator(x, trainable, reuse=False):\n",
    "    \n",
    "    with tf.variable_scope('discriminator', reuse=reuse):\n",
    "        conv1 = tf.layers.conv2d(x, 64, 5, 2, 'SAME')\n",
    "        lrelu1 = tf.nn.leaky_relu(conv1)\n",
    "\n",
    "        conv2 = tf.layers.conv2d(lrelu1, 128, 5, 2, 'SAME')\n",
    "        bn2 = tf.layers.batch_normalization(conv2, training=trainable)\n",
    "        lrelu2 = tf.nn.leaky_relu(bn2)\n",
    "\n",
    "        conv3 = tf.layers.conv2d(lrelu2, 256, 5, 1, 'SAME')\n",
    "        bn3 = tf.layers.batch_normalization(conv3, training=trainable)\n",
    "        lrelu3 = tf.nn.leaky_relu(bn3)\n",
    "\n",
    "        reshaped = tf.reshape(lrelu3, (-1, 4*4*256))\n",
    "        logits = tf.layers.dense(reshaped, 1)\n",
    "        probability = tf.sigmoid(logits)\n",
    "    \n",
    "    if not reuse:\n",
    "        print(x)\n",
    "        print(lrelu1)\n",
    "        print(lrelu2)\n",
    "        print(lrelu3)\n",
    "        print(reshaped)\n",
    "        print(probability)\n",
    "\n",
    "    return probability, logits"
   ]
  },
  {
   "cell_type": "code",
   "execution_count": 6,
   "metadata": {},
   "outputs": [
    {
     "name": "stdout",
     "output_type": "stream",
     "text": [
      "WARNING:tensorflow:From <ipython-input-5-e6569af30686>:10: dense (from tensorflow.python.layers.core) is deprecated and will be removed in a future version.\n",
      "Instructions for updating:\n",
      "Use keras.layers.dense instead.\n",
      "WARNING:tensorflow:From /home/francesco/anaconda3/lib/python3.7/site-packages/tensorflow/python/framework/op_def_library.py:263: colocate_with (from tensorflow.python.framework.ops) is deprecated and will be removed in a future version.\n",
      "Instructions for updating:\n",
      "Colocations handled automatically by placer.\n",
      "WARNING:tensorflow:From <ipython-input-5-e6569af30686>:13: batch_normalization (from tensorflow.python.layers.normalization) is deprecated and will be removed in a future version.\n",
      "Instructions for updating:\n",
      "Use keras.layers.batch_normalization instead.\n",
      "WARNING:tensorflow:From <ipython-input-5-e6569af30686>:16: conv2d_transpose (from tensorflow.python.layers.convolutional) is deprecated and will be removed in a future version.\n",
      "Instructions for updating:\n",
      "Use keras.layers.conv2d_transpose instead.\n",
      "Tensor(\"Z:0\", shape=(?, 100), dtype=float32)\n",
      "Tensor(\"generator/dense/BiasAdd:0\", shape=(?, 2048), dtype=float32)\n",
      "Tensor(\"generator/LeakyRelu:0\", shape=(?, 2, 2, 512), dtype=float32)\n",
      "Tensor(\"generator/LeakyRelu_1:0\", shape=(?, 7, 7, 256), dtype=float32)\n",
      "Tensor(\"generator/LeakyRelu_2:0\", shape=(?, 14, 14, 128), dtype=float32)\n",
      "Tensor(\"generator/Tanh:0\", shape=(?, 28, 28, 1), dtype=float32)\n",
      "WARNING:tensorflow:From <ipython-input-5-e6569af30686>:40: conv2d (from tensorflow.python.layers.convolutional) is deprecated and will be removed in a future version.\n",
      "Instructions for updating:\n",
      "Use keras.layers.conv2d instead.\n",
      "Tensor(\"X:0\", shape=(?, 28, 28, 1), dtype=float32)\n",
      "Tensor(\"discriminator/LeakyRelu:0\", shape=(?, 14, 14, 64), dtype=float32)\n",
      "Tensor(\"discriminator/LeakyRelu_1:0\", shape=(?, 7, 7, 128), dtype=float32)\n",
      "Tensor(\"discriminator/LeakyRelu_2:0\", shape=(?, 7, 7, 256), dtype=float32)\n",
      "Tensor(\"discriminator/Reshape:0\", shape=(?, 4096), dtype=float32)\n",
      "Tensor(\"discriminator/Sigmoid:0\", shape=(?, 1), dtype=float32)\n"
     ]
    }
   ],
   "source": [
    "tf.reset_default_graph()\n",
    "\n",
    "# Inputs\n",
    "Z = tf.placeholder(tf.float32, shape=[None, Z_dim], name='Z')\n",
    "X = tf.placeholder(tf.float32, shape=[None, X_train.shape[1], X_train.shape[2], X_train.shape[3]], name='X')\n",
    "isTrain = tf.placeholder(dtype=tf.bool)\n",
    "\n",
    "# Networks\n",
    "G_z = generator(Z, isTrain)\n",
    "_, D_logits_real = discriminator(X, isTrain)\n",
    "_, D_logits_fake = discriminator(G_z, isTrain, reuse=True)"
   ]
  },
  {
   "cell_type": "code",
   "execution_count": 7,
   "metadata": {},
   "outputs": [],
   "source": [
    "def discriminatorLoss(D_logits_real, D_logits_fake, label_smoothing=1):\n",
    "    D_loss_real = tf.reduce_mean(tf.nn.sigmoid_cross_entropy_with_logits(logits=D_logits_real,\n",
    "                                                labels=tf.ones_like(D_logits_real) * label_smoothing))\n",
    "    D_loss_fake = tf.reduce_mean(tf.nn.sigmoid_cross_entropy_with_logits(logits=D_logits_fake,\n",
    "                                                labels=tf.zeros_like(D_logits_fake)))\n",
    "    D_loss = D_loss_real + D_loss_fake\n",
    "    \n",
    "    return D_loss\n",
    "\n",
    "def generatorLoss(D_logits_fake):\n",
    "    G_loss = tf.reduce_mean(tf.nn.sigmoid_cross_entropy_with_logits(logits=D_logits_fake,\n",
    "                                                labels=tf.ones_like(D_logits_fake)))\n",
    "    return G_loss\n",
    "\n",
    "D_loss = discriminatorLoss(D_logits_real, D_logits_fake, 0.9)\n",
    "G_loss = generatorLoss(D_logits_fake)\n",
    "\n",
    "# Losses have minus sign because I have to maximize them\n",
    "#D_loss = - tf.reduce_mean(tf.log(D_real) + tf.log(1 - D_fake))\n",
    "#G_loss = - tf.reduce_mean(tf.log(D_fake))\n",
    "\n",
    "all_vars = tf.trainable_variables()\n",
    "D_vars = [var for var in all_vars if var.name.startswith('discriminator')]\n",
    "G_vars = [var for var in all_vars if var.name.startswith('generator')]\n",
    "\n",
    "# Optimize\n",
    "update_ops = tf.get_collection(tf.GraphKeys.UPDATE_OPS)\n",
    "with tf.control_dependencies(update_ops): \n",
    "    D_optimizer = tf.train.AdamOptimizer(lr, beta1=0.5).minimize(D_loss, var_list=D_vars)\n",
    "    G_optimizer = tf.train.AdamOptimizer(lr, beta1=0.5).minimize(G_loss, var_list=G_vars)"
   ]
  },
  {
   "cell_type": "markdown",
   "metadata": {},
   "source": [
    "## Training of the generator and discriminator network"
   ]
  },
  {
   "cell_type": "code",
   "execution_count": 8,
   "metadata": {},
   "outputs": [
    {
     "name": "stdout",
     "output_type": "stream",
     "text": [
      "(6, 100)\n"
     ]
    }
   ],
   "source": [
    "tf.summary.scalar('D_loss', D_loss)\n",
    "tf.summary.scalar('G_loss', G_loss)\n",
    "\n",
    "# MERGE SUMMARIES - Merge all summaries into a single op\n",
    "merged_summ = tf.summary.merge_all()\n",
    "\n",
    "# VISUALIZE => tensorboard --logdir=.\n",
    "summaries_dir = base_path + \"checkpoints\"\n",
    "\n",
    "# Test noise\n",
    "testNoise = sample_noise(6, Z_dim, mu, sigma)\n",
    "print(testNoise.shape)\n",
    "\n",
    "def saveImages(images, epoch):    \n",
    "    for i in range(len(images)):\n",
    "        mpimg.imsave(base_path + \"images/out-\" + str(epoch) + \"-\" + str(i) + \".png\", np.squeeze(G_output[i]))"
   ]
  },
  {
   "cell_type": "code",
   "execution_count": 9,
   "metadata": {
    "scrolled": true
   },
   "outputs": [
    {
     "name": "stdout",
     "output_type": "stream",
     "text": [
      "Epoch 0\n"
     ]
    },
    {
     "ename": "KeyboardInterrupt",
     "evalue": "",
     "output_type": "error",
     "traceback": [
      "\u001b[0;31m---------------------------------------------------------------------------\u001b[0m",
      "\u001b[0;31mKeyboardInterrupt\u001b[0m                         Traceback (most recent call last)",
      "\u001b[0;32m<ipython-input-9-9468dd3c9703>\u001b[0m in \u001b[0;36m<module>\u001b[0;34m\u001b[0m\n\u001b[1;32m     24\u001b[0m             _, summary = sess.run([G_optimizer, merged_summ], feed_dict={ X: X_train[j:j+batchSize],\n\u001b[1;32m     25\u001b[0m                                                                           \u001b[0mZ\u001b[0m\u001b[0;34m:\u001b[0m \u001b[0mnoise\u001b[0m\u001b[0;34m,\u001b[0m\u001b[0;34m\u001b[0m\u001b[0;34m\u001b[0m\u001b[0m\n\u001b[0;32m---> 26\u001b[0;31m                                                                           isTrain: True })\n\u001b[0m\u001b[1;32m     27\u001b[0m             \u001b[0mglobalStep\u001b[0m\u001b[0;34m+=\u001b[0m\u001b[0;36m1\u001b[0m\u001b[0;34m\u001b[0m\u001b[0;34m\u001b[0m\u001b[0m\n\u001b[1;32m     28\u001b[0m             \u001b[0msummary_writer\u001b[0m\u001b[0;34m.\u001b[0m\u001b[0madd_summary\u001b[0m\u001b[0;34m(\u001b[0m\u001b[0msummary\u001b[0m\u001b[0;34m,\u001b[0m \u001b[0mglobalStep\u001b[0m\u001b[0;34m)\u001b[0m\u001b[0;34m\u001b[0m\u001b[0;34m\u001b[0m\u001b[0m\n",
      "\u001b[0;32m~/anaconda3/lib/python3.7/site-packages/tensorflow/python/client/session.py\u001b[0m in \u001b[0;36mrun\u001b[0;34m(self, fetches, feed_dict, options, run_metadata)\u001b[0m\n\u001b[1;32m    927\u001b[0m     \u001b[0;32mtry\u001b[0m\u001b[0;34m:\u001b[0m\u001b[0;34m\u001b[0m\u001b[0;34m\u001b[0m\u001b[0m\n\u001b[1;32m    928\u001b[0m       result = self._run(None, fetches, feed_dict, options_ptr,\n\u001b[0;32m--> 929\u001b[0;31m                          run_metadata_ptr)\n\u001b[0m\u001b[1;32m    930\u001b[0m       \u001b[0;32mif\u001b[0m \u001b[0mrun_metadata\u001b[0m\u001b[0;34m:\u001b[0m\u001b[0;34m\u001b[0m\u001b[0;34m\u001b[0m\u001b[0m\n\u001b[1;32m    931\u001b[0m         \u001b[0mproto_data\u001b[0m \u001b[0;34m=\u001b[0m \u001b[0mtf_session\u001b[0m\u001b[0;34m.\u001b[0m\u001b[0mTF_GetBuffer\u001b[0m\u001b[0;34m(\u001b[0m\u001b[0mrun_metadata_ptr\u001b[0m\u001b[0;34m)\u001b[0m\u001b[0;34m\u001b[0m\u001b[0;34m\u001b[0m\u001b[0m\n",
      "\u001b[0;32m~/anaconda3/lib/python3.7/site-packages/tensorflow/python/client/session.py\u001b[0m in \u001b[0;36m_run\u001b[0;34m(self, handle, fetches, feed_dict, options, run_metadata)\u001b[0m\n\u001b[1;32m   1150\u001b[0m     \u001b[0;32mif\u001b[0m \u001b[0mfinal_fetches\u001b[0m \u001b[0;32mor\u001b[0m \u001b[0mfinal_targets\u001b[0m \u001b[0;32mor\u001b[0m \u001b[0;34m(\u001b[0m\u001b[0mhandle\u001b[0m \u001b[0;32mand\u001b[0m \u001b[0mfeed_dict_tensor\u001b[0m\u001b[0;34m)\u001b[0m\u001b[0;34m:\u001b[0m\u001b[0;34m\u001b[0m\u001b[0;34m\u001b[0m\u001b[0m\n\u001b[1;32m   1151\u001b[0m       results = self._do_run(handle, final_targets, final_fetches,\n\u001b[0;32m-> 1152\u001b[0;31m                              feed_dict_tensor, options, run_metadata)\n\u001b[0m\u001b[1;32m   1153\u001b[0m     \u001b[0;32melse\u001b[0m\u001b[0;34m:\u001b[0m\u001b[0;34m\u001b[0m\u001b[0;34m\u001b[0m\u001b[0m\n\u001b[1;32m   1154\u001b[0m       \u001b[0mresults\u001b[0m \u001b[0;34m=\u001b[0m \u001b[0;34m[\u001b[0m\u001b[0;34m]\u001b[0m\u001b[0;34m\u001b[0m\u001b[0;34m\u001b[0m\u001b[0m\n",
      "\u001b[0;32m~/anaconda3/lib/python3.7/site-packages/tensorflow/python/client/session.py\u001b[0m in \u001b[0;36m_do_run\u001b[0;34m(self, handle, target_list, fetch_list, feed_dict, options, run_metadata)\u001b[0m\n\u001b[1;32m   1326\u001b[0m     \u001b[0;32mif\u001b[0m \u001b[0mhandle\u001b[0m \u001b[0;32mis\u001b[0m \u001b[0;32mNone\u001b[0m\u001b[0;34m:\u001b[0m\u001b[0;34m\u001b[0m\u001b[0;34m\u001b[0m\u001b[0m\n\u001b[1;32m   1327\u001b[0m       return self._do_call(_run_fn, feeds, fetches, targets, options,\n\u001b[0;32m-> 1328\u001b[0;31m                            run_metadata)\n\u001b[0m\u001b[1;32m   1329\u001b[0m     \u001b[0;32melse\u001b[0m\u001b[0;34m:\u001b[0m\u001b[0;34m\u001b[0m\u001b[0;34m\u001b[0m\u001b[0m\n\u001b[1;32m   1330\u001b[0m       \u001b[0;32mreturn\u001b[0m \u001b[0mself\u001b[0m\u001b[0;34m.\u001b[0m\u001b[0m_do_call\u001b[0m\u001b[0;34m(\u001b[0m\u001b[0m_prun_fn\u001b[0m\u001b[0;34m,\u001b[0m \u001b[0mhandle\u001b[0m\u001b[0;34m,\u001b[0m \u001b[0mfeeds\u001b[0m\u001b[0;34m,\u001b[0m \u001b[0mfetches\u001b[0m\u001b[0;34m)\u001b[0m\u001b[0;34m\u001b[0m\u001b[0;34m\u001b[0m\u001b[0m\n",
      "\u001b[0;32m~/anaconda3/lib/python3.7/site-packages/tensorflow/python/client/session.py\u001b[0m in \u001b[0;36m_do_call\u001b[0;34m(self, fn, *args)\u001b[0m\n\u001b[1;32m   1332\u001b[0m   \u001b[0;32mdef\u001b[0m \u001b[0m_do_call\u001b[0m\u001b[0;34m(\u001b[0m\u001b[0mself\u001b[0m\u001b[0;34m,\u001b[0m \u001b[0mfn\u001b[0m\u001b[0;34m,\u001b[0m \u001b[0;34m*\u001b[0m\u001b[0margs\u001b[0m\u001b[0;34m)\u001b[0m\u001b[0;34m:\u001b[0m\u001b[0;34m\u001b[0m\u001b[0;34m\u001b[0m\u001b[0m\n\u001b[1;32m   1333\u001b[0m     \u001b[0;32mtry\u001b[0m\u001b[0;34m:\u001b[0m\u001b[0;34m\u001b[0m\u001b[0;34m\u001b[0m\u001b[0m\n\u001b[0;32m-> 1334\u001b[0;31m       \u001b[0;32mreturn\u001b[0m \u001b[0mfn\u001b[0m\u001b[0;34m(\u001b[0m\u001b[0;34m*\u001b[0m\u001b[0margs\u001b[0m\u001b[0;34m)\u001b[0m\u001b[0;34m\u001b[0m\u001b[0;34m\u001b[0m\u001b[0m\n\u001b[0m\u001b[1;32m   1335\u001b[0m     \u001b[0;32mexcept\u001b[0m \u001b[0merrors\u001b[0m\u001b[0;34m.\u001b[0m\u001b[0mOpError\u001b[0m \u001b[0;32mas\u001b[0m \u001b[0me\u001b[0m\u001b[0;34m:\u001b[0m\u001b[0;34m\u001b[0m\u001b[0;34m\u001b[0m\u001b[0m\n\u001b[1;32m   1336\u001b[0m       \u001b[0mmessage\u001b[0m \u001b[0;34m=\u001b[0m \u001b[0mcompat\u001b[0m\u001b[0;34m.\u001b[0m\u001b[0mas_text\u001b[0m\u001b[0;34m(\u001b[0m\u001b[0me\u001b[0m\u001b[0;34m.\u001b[0m\u001b[0mmessage\u001b[0m\u001b[0;34m)\u001b[0m\u001b[0;34m\u001b[0m\u001b[0;34m\u001b[0m\u001b[0m\n",
      "\u001b[0;32m~/anaconda3/lib/python3.7/site-packages/tensorflow/python/client/session.py\u001b[0m in \u001b[0;36m_run_fn\u001b[0;34m(feed_dict, fetch_list, target_list, options, run_metadata)\u001b[0m\n\u001b[1;32m   1317\u001b[0m       \u001b[0mself\u001b[0m\u001b[0;34m.\u001b[0m\u001b[0m_extend_graph\u001b[0m\u001b[0;34m(\u001b[0m\u001b[0;34m)\u001b[0m\u001b[0;34m\u001b[0m\u001b[0;34m\u001b[0m\u001b[0m\n\u001b[1;32m   1318\u001b[0m       return self._call_tf_sessionrun(\n\u001b[0;32m-> 1319\u001b[0;31m           options, feed_dict, fetch_list, target_list, run_metadata)\n\u001b[0m\u001b[1;32m   1320\u001b[0m \u001b[0;34m\u001b[0m\u001b[0m\n\u001b[1;32m   1321\u001b[0m     \u001b[0;32mdef\u001b[0m \u001b[0m_prun_fn\u001b[0m\u001b[0;34m(\u001b[0m\u001b[0mhandle\u001b[0m\u001b[0;34m,\u001b[0m \u001b[0mfeed_dict\u001b[0m\u001b[0;34m,\u001b[0m \u001b[0mfetch_list\u001b[0m\u001b[0;34m)\u001b[0m\u001b[0;34m:\u001b[0m\u001b[0;34m\u001b[0m\u001b[0;34m\u001b[0m\u001b[0m\n",
      "\u001b[0;32m~/anaconda3/lib/python3.7/site-packages/tensorflow/python/client/session.py\u001b[0m in \u001b[0;36m_call_tf_sessionrun\u001b[0;34m(self, options, feed_dict, fetch_list, target_list, run_metadata)\u001b[0m\n\u001b[1;32m   1405\u001b[0m     return tf_session.TF_SessionRun_wrapper(\n\u001b[1;32m   1406\u001b[0m         \u001b[0mself\u001b[0m\u001b[0;34m.\u001b[0m\u001b[0m_session\u001b[0m\u001b[0;34m,\u001b[0m \u001b[0moptions\u001b[0m\u001b[0;34m,\u001b[0m \u001b[0mfeed_dict\u001b[0m\u001b[0;34m,\u001b[0m \u001b[0mfetch_list\u001b[0m\u001b[0;34m,\u001b[0m \u001b[0mtarget_list\u001b[0m\u001b[0;34m,\u001b[0m\u001b[0;34m\u001b[0m\u001b[0;34m\u001b[0m\u001b[0m\n\u001b[0;32m-> 1407\u001b[0;31m         run_metadata)\n\u001b[0m\u001b[1;32m   1408\u001b[0m \u001b[0;34m\u001b[0m\u001b[0m\n\u001b[1;32m   1409\u001b[0m   \u001b[0;32mdef\u001b[0m \u001b[0m_call_tf_sessionprun\u001b[0m\u001b[0;34m(\u001b[0m\u001b[0mself\u001b[0m\u001b[0;34m,\u001b[0m \u001b[0mhandle\u001b[0m\u001b[0;34m,\u001b[0m \u001b[0mfeed_dict\u001b[0m\u001b[0;34m,\u001b[0m \u001b[0mfetch_list\u001b[0m\u001b[0;34m)\u001b[0m\u001b[0;34m:\u001b[0m\u001b[0;34m\u001b[0m\u001b[0;34m\u001b[0m\u001b[0m\n",
      "\u001b[0;31mKeyboardInterrupt\u001b[0m: "
     ]
    }
   ],
   "source": [
    "indices = list(range(len(X_train)))\n",
    "\n",
    "with tf.Session() as sess:\n",
    "\n",
    "    saver = tf.train.Saver()\n",
    "    sess.run(tf.global_variables_initializer())\n",
    "    summary_writer = tf.summary.FileWriter(summaries_dir, graph=tf.get_default_graph())\n",
    "    \n",
    "    globalStep = 0\n",
    "    for i in range(epochs):        \n",
    "        # Shuffle dataset every epoch\n",
    "        print(\"Epoch \" + str(i))\n",
    "        np.random.shuffle(indices)\n",
    "        X_train = X_train[indices]\n",
    "        \n",
    "        for j in range(0, len(X_train), batchSize):\n",
    "            noise = sample_noise(len(X_train[j:j+batchSize]), Z_dim, mu, sigma)\n",
    "\n",
    "            _ = sess.run(D_optimizer, feed_dict={ X: X_train[j:j+batchSize], \n",
    "                                                  Z: noise,\n",
    "                                                  isTrain: True})\n",
    "\n",
    "            noise = sample_noise(len(X_train[j:j+batchSize]), Z_dim, mu, sigma)\n",
    "            _, summary = sess.run([G_optimizer, merged_summ], feed_dict={ X: X_train[j:j+batchSize],\n",
    "                                                                          Z: noise,\n",
    "                                                                          isTrain: True })\n",
    "            globalStep+=1\n",
    "            summary_writer.add_summary(summary, globalStep)\n",
    "\n",
    "        # Check results every epoch\n",
    "        save_path = saver.save(sess, base_path + \"checkpoints/model.ckpt\")\n",
    "        G_output = sess.run(G_z, feed_dict={ Z: testNoise,\n",
    "                                            isTrain: False })\n",
    "        saveImages(G_output, i)"
   ]
  },
  {
   "cell_type": "code",
   "execution_count": null,
   "metadata": {},
   "outputs": [],
   "source": []
  }
 ],
 "metadata": {
  "kernelspec": {
   "display_name": "Python 3",
   "language": "python",
   "name": "python3"
  },
  "language_info": {
   "codemirror_mode": {
    "name": "ipython",
    "version": 3
   },
   "file_extension": ".py",
   "mimetype": "text/x-python",
   "name": "python",
   "nbconvert_exporter": "python",
   "pygments_lexer": "ipython3",
   "version": "3.7.1"
  }
 },
 "nbformat": 4,
 "nbformat_minor": 2
}
